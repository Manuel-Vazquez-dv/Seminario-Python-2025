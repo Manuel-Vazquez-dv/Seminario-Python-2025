{
 "cells": [
  {
   "cell_type": "markdown",
   "metadata": {},
   "source": [
    "Practica 2"
   ]
  },
  {
   "cell_type": "code",
   "execution_count": 1,
   "metadata": {},
   "outputs": [],
   "source": [
    "import sys\n",
    "import os\n",
    "sys.path.append(os.path.abspath(\"../src\"))\n",
    "from functions import *"
   ]
  },
  {
   "cell_type": "markdown",
   "metadata": {},
   "source": [
    "Ejercicio 1"
   ]
  },
  {
   "cell_type": "code",
   "execution_count": 8,
   "metadata": {},
   "outputs": [
    {
     "name": "stdout",
     "output_type": "stream",
     "text": [
      "Beautiful is better than ugly\n",
      "Explicit is better than implicit\n",
      "Simple is better than complex\n",
      "Complex is better than complicated\n",
      "Flat is better than nested\n",
      "Sparse is better than dense\n",
      "Unless explicitly silenced\n",
      "Now is better than never\n",
      "Namespaces are one honking great idea -- let's do more of those!\n"
     ]
    }
   ],
   "source": [
    "#punto 1\n",
    "zen_text = \"Beautiful is better than ugly. Explicit is better than implicit. Simple is better than complex. Complex is better than complicated. Flat is better than nested. Sparse is better than dense. Readability counts. Special cases aren't special enough to break the rules. Although practicality beats purity. Errors should never pass silently. Unless explicitly silenced. In the face of ambiguity, refuse the temptation to guess. There should be one-- and preferably only one --obvious way to do it. Although that way may not be obvious at first unless you're Dutch. Now is better than never. Although never is often better than *right* now. If the implementation is hard to explain, it's a bad idea. If the implementation is easy to explain, it may be a good idea. Namespaces are one honking great idea -- let's do more of those!\"\n",
    "\n",
    "zenSorted = zen_text.split(\". \")\n",
    "\n",
    "zenSorted = filter(sortVocal, zenSorted)\n",
    "for elem in zenSorted: print (elem)"
   ]
  },
  {
   "cell_type": "markdown",
   "metadata": {},
   "source": [
    "Ejercicio 2"
   ]
  },
  {
   "cell_type": "code",
   "execution_count": null,
   "metadata": {},
   "outputs": [],
   "source": []
  },
  {
   "cell_type": "markdown",
   "metadata": {},
   "source": [
    "Ejercicio 3"
   ]
  },
  {
   "cell_type": "code",
   "execution_count": null,
   "metadata": {},
   "outputs": [],
   "source": []
  },
  {
   "cell_type": "markdown",
   "metadata": {},
   "source": [
    "Ejercicio 10\n",
    "\n",
    "\n",
    "Simule varias partidas de un juego de disparos y genere un ranking basado en el puntaje total de cada jugador. Se utilizará el siguiente sistema de puntuación:\n",
    "\n",
    "Accion: Kill  Asistencia Muerte  \n",
    "Puntos: 3     1          -1\n",
    "\n",
    "\n",
    "Imprima las tablas de resultados luego de la inserción de cada una de las rondas pudiendo ver el progreso en el equipo.\n",
    "Además cada ronda debe tener un MVP (Mejor Jugador del Partido/ronda) basado en su puntuación. La cantidad de veces que el jugador ha sido MVP también se debe contabilizar\n",
    "Se debe imprimir el total de kills, asistencias, muertes, cantidad de MVP y puntos totales. La  tabla tienen que estar en orden decreciente por los puntos totales.\n",
    " Salida esperada:\n",
    " Ranking ronda 1:\n",
    " ...\n",
    " Ranking ronda 2:\n",
    " ...\n",
    " Ranking final:\n",
    " Jugador Kills Asistencias  Muertes  MVPs   Puntos\n",
    " -------------------------------------------------------\n",
    " Shadow  6      6           2        2      22        \n",
    " Blaze   6      3           3        1      18\n",
    " Viper   5      6           3        1      18\n",
    " Reaper  4      5           1        0      16\n",
    " Frost   4      5           2        1      15\n",
    " -------------------------------------------------------"
   ]
  },
  {
   "cell_type": "code",
   "execution_count": null,
   "metadata": {},
   "outputs": [
    {
     "name": "stdout",
     "output_type": "stream",
     "text": [
      "{'Shadow': {'kills': 2, 'assists': 1, 'deaths': True}, 'Blaze': {'kills': 1, 'assists': 0, 'deaths': False}, 'Viper': {'kills': 1, 'assists': 2, 'deaths': True}, 'Frost': {'kills': 0, 'assists': 1, 'deaths': False}, 'Reaper': {'kills': 1, 'assists': 1, 'deaths': False}}\n",
      "Shadow\n"
     ]
    },
    {
     "ename": "TypeError",
     "evalue": "string indices must be integers, not 'str'",
     "output_type": "error",
     "traceback": [
      "\u001b[31m---------------------------------------------------------------------------\u001b[39m",
      "\u001b[31mTypeError\u001b[39m                                 Traceback (most recent call last)",
      "\u001b[36mCell\u001b[39m\u001b[36m \u001b[39m\u001b[32mIn[2]\u001b[39m\u001b[32m, line 46\u001b[39m\n\u001b[32m     38\u001b[39m total = {\n\u001b[32m     39\u001b[39m  \u001b[33m'\u001b[39m\u001b[33mShadow\u001b[39m\u001b[33m'\u001b[39m:{\u001b[33m'\u001b[39m\u001b[33mkills\u001b[39m\u001b[33m'\u001b[39m: \u001b[32m0\u001b[39m, \u001b[33m'\u001b[39m\u001b[33massists\u001b[39m\u001b[33m'\u001b[39m: \u001b[32m0\u001b[39m,\u001b[33m'\u001b[39m\u001b[33mdeaths\u001b[39m\u001b[33m'\u001b[39m:\u001b[32m0\u001b[39m},\n\u001b[32m     40\u001b[39m  \u001b[33m'\u001b[39m\u001b[33mBlaze\u001b[39m\u001b[33m'\u001b[39m:{\u001b[33m'\u001b[39m\u001b[33mkills\u001b[39m\u001b[33m'\u001b[39m: \u001b[32m0\u001b[39m, \u001b[33m'\u001b[39m\u001b[33massists\u001b[39m\u001b[33m'\u001b[39m: \u001b[32m0\u001b[39m,\u001b[33m'\u001b[39m\u001b[33mdeaths\u001b[39m\u001b[33m'\u001b[39m:\u001b[32m0\u001b[39m},\n\u001b[32m   (...)\u001b[39m\u001b[32m     43\u001b[39m  \u001b[33m'\u001b[39m\u001b[33mReaper\u001b[39m\u001b[33m'\u001b[39m:{\u001b[33m'\u001b[39m\u001b[33mkills\u001b[39m\u001b[33m'\u001b[39m: \u001b[32m0\u001b[39m, \u001b[33m'\u001b[39m\u001b[33massists\u001b[39m\u001b[33m'\u001b[39m: \u001b[32m0\u001b[39m,\u001b[33m'\u001b[39m\u001b[33mdeaths\u001b[39m\u001b[33m'\u001b[39m:\u001b[32m0\u001b[39m}\n\u001b[32m     44\u001b[39m }\n\u001b[32m     45\u001b[39m \u001b[38;5;28;01mfor\u001b[39;00m elem \u001b[38;5;129;01min\u001b[39;00m rounds:\n\u001b[32m---> \u001b[39m\u001b[32m46\u001b[39m     \u001b[43mprocess_round\u001b[49m\u001b[43m(\u001b[49m\u001b[43melem\u001b[49m\u001b[43m,\u001b[49m\u001b[43mtotal\u001b[49m\u001b[43m)\u001b[49m\n",
      "\u001b[36mFile \u001b[39m\u001b[32mc:\\CosasFacu\\python\\Practica\\Entrega\\Entrega2\\src\\functions.py:40\u001b[39m, in \u001b[36mprocess_round\u001b[39m\u001b[34m(currentRound, total)\u001b[39m\n\u001b[32m     38\u001b[39m \u001b[38;5;28;01mfor\u001b[39;00m elem \u001b[38;5;129;01min\u001b[39;00m currentRound:\n\u001b[32m     39\u001b[39m       \u001b[38;5;28mprint\u001b[39m(elem)\n\u001b[32m---> \u001b[39m\u001b[32m40\u001b[39m       total[\u001b[33m'\u001b[39m\u001b[33mkills\u001b[39m\u001b[33m'\u001b[39m] =+ \u001b[43melem\u001b[49m\u001b[43m[\u001b[49m\u001b[33;43m'\u001b[39;49m\u001b[33;43mkills\u001b[39;49m\u001b[33;43m'\u001b[39;49m\u001b[43m]\u001b[49m \n\u001b[32m     41\u001b[39m       total[\u001b[33m'\u001b[39m\u001b[33massists\u001b[39m\u001b[33m'\u001b[39m] =+ [\u001b[33m'\u001b[39m\u001b[33melem.assists\u001b[39m\u001b[33m'\u001b[39m]\n\u001b[32m     42\u001b[39m       actualPoints = ([\u001b[33m'\u001b[39m\u001b[33melem.kills\u001b[39m\u001b[33m'\u001b[39m]*\u001b[32m3\u001b[39m + [\u001b[33m'\u001b[39m\u001b[33melem.assists\u001b[39m\u001b[33m'\u001b[39m])\n",
      "\u001b[31mTypeError\u001b[39m: string indices must be integers, not 'str'"
     ]
    }
   ],
   "source": [
    "rounds = [\n",
    "     {\n",
    "         'Shadow': {'kills': 2, 'assists': 1, 'deaths': True},\n",
    "         'Blaze': {'kills': 1, 'assists': 0, 'deaths': False},\n",
    "         'Viper': {'kills': 1, 'assists': 2, 'deaths': True},\n",
    "         'Frost': {'kills': 0, 'assists': 1, 'deaths': False},\n",
    "         'Reaper': {'kills': 1, 'assists': 1, 'deaths': False}\n",
    "     },\n",
    "     {\n",
    "         'Shadow': {'kills': 0, 'assists': 2, 'deaths': False},\n",
    "         'Blaze': {'kills': 2, 'assists': 0, 'deaths': True},\n",
    "         'Viper': {'kills': 1, 'assists': 1, 'deaths': False},\n",
    "         'Frost': {'kills': 2, 'assists': 1, 'deaths': True},\n",
    "         'Reaper': {'kills': 0, 'assists': 1, 'deaths': False}\n",
    "     },\n",
    "     {\n",
    "         'Shadow': {'kills': 1, 'assists': 0, 'deaths': False},\n",
    "         'Blaze': {'kills': 2, 'assists': 2, 'deaths': True},\n",
    "         'Viper': {'kills': 1, 'assists': 1, 'deaths': True},\n",
    "         'Frost': {'kills': 0, 'assists': 1, 'deaths': False},\n",
    "         'Reaper': {'kills': 1, 'assists': 1, 'deaths': False}\n",
    "     },\n",
    "     {\n",
    "         'Shadow': {'kills': 2, 'assists': 1, 'deaths': False},\n",
    "         'Blaze': {'kills': 1, 'assists': 0, 'deaths': True},\n",
    "         'Viper': {'kills': 0, 'assists': 2, 'deaths': False},\n",
    "         'Frost': {'kills': 1, 'assists': 1, 'deaths': True},\n",
    "         'Reaper': {'kills': 1, 'assists': 1, 'deaths': False}\n",
    "     },\n",
    "     {\n",
    "         'Shadow': {'kills': 1, 'assists': 2, 'deaths': True},\n",
    "         'Blaze': {'kills': 0, 'assists': 1, 'deaths': False},\n",
    "         'Viper': {'kills': 2, 'assists': 0, 'deaths': True},\n",
    "         'Frost': {'kills': 1, 'assists': 1, 'deaths': False},\n",
    "         'Reaper': {'kills': 1, 'assists': 1, 'deaths': True}\n",
    "     }\n",
    "]\n",
    "total = {\n",
    " 'Shadow':{'kills': 0, 'assists': 0,'deaths':0,'MVPS':0,'points':0},\n",
    " 'Blaze':{'kills': 0, 'assists': 0,'deaths':0,'MVPS':0,'points':0},\n",
    " 'Viper':{'kills': 0, 'assists': 0,'deaths':0,'MVPS':0,'points':0},\n",
    " 'Frost':{'kills': 0, 'assists': 0,'deaths':0,'MVPS':0,'points':0},\n",
    " 'Reaper':{'kills': 0, 'assists': 0,'deaths':0,'MVPS':0,'points':0}\n",
    "}\n",
    "for elem in rounds:\n",
    "    process_round(elem,total)\n"
   ]
  }
 ],
 "metadata": {
  "kernelspec": {
   "display_name": "Python 3",
   "language": "python",
   "name": "python3"
  },
  "language_info": {
   "codemirror_mode": {
    "name": "ipython",
    "version": 3
   },
   "file_extension": ".py",
   "mimetype": "text/x-python",
   "name": "python",
   "nbconvert_exporter": "python",
   "pygments_lexer": "ipython3",
   "version": "3.12.9"
  }
 },
 "nbformat": 4,
 "nbformat_minor": 2
}
