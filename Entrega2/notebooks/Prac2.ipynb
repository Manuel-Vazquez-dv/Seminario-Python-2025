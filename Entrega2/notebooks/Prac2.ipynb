{
 "cells": [
  {
   "cell_type": "markdown",
   "metadata": {},
   "source": [
    "Practica 2"
   ]
  },
  {
   "cell_type": "code",
   "execution_count": 1,
   "metadata": {},
   "outputs": [],
   "source": [
    "import sys\n",
    "import os\n",
    "sys.path.append(os.path.abspath(\"../src\"))\n",
    "from functions import *"
   ]
  },
  {
   "cell_type": "markdown",
   "metadata": {},
   "source": [
    "Ejercicio 1"
   ]
  },
  {
   "cell_type": "code",
   "execution_count": 2,
   "metadata": {},
   "outputs": [
    {
     "name": "stdout",
     "output_type": "stream",
     "text": [
      "Beautiful is better than ugly\n",
      "Explicit is better than implicit\n",
      "Simple is better than complex\n",
      "Complex is better than complicated\n",
      "Flat is better than nested\n",
      "Sparse is better than dense\n",
      "Unless explicitly silenced\n",
      "Now is better than never\n",
      "Namespaces are one honking great idea -- let's do more of those!\n"
     ]
    }
   ],
   "source": [
    "#punto 1\n",
    "zen_text = \"Beautiful is better than ugly. Explicit is better than implicit. Simple is better than complex. Complex is better than complicated. Flat is better than nested. Sparse is better than dense. Readability counts. Special cases aren't special enough to break the rules. Although practicality beats purity. Errors should never pass silently. Unless explicitly silenced. In the face of ambiguity, refuse the temptation to guess. There should be one-- and preferably only one --obvious way to do it. Although that way may not be obvious at first unless you're Dutch. Now is better than never. Although never is often better than *right* now. If the implementation is hard to explain, it's a bad idea. If the implementation is easy to explain, it may be a good idea. Namespaces are one honking great idea -- let's do more of those!\"\n",
    "\n",
    "zenSorted = zen_text.split(\". \")\n",
    "\n",
    "zenSorted = filter(sortVocal, zenSorted)\n",
    "for elem in zenSorted: print (elem)"
   ]
  },
  {
   "cell_type": "markdown",
   "metadata": {},
   "source": [
    "Ejercicio 2"
   ]
  },
  {
   "cell_type": "code",
   "execution_count": null,
   "metadata": {},
   "outputs": [],
   "source": []
  },
  {
   "cell_type": "markdown",
   "metadata": {},
   "source": [
    "Ejercicio 3"
   ]
  },
  {
   "cell_type": "code",
   "execution_count": null,
   "metadata": {},
   "outputs": [],
   "source": []
  },
  {
   "cell_type": "markdown",
   "metadata": {},
   "source": [
    "Ejercicio 10\n",
    "\n",
    "\n",
    "Simule varias partidas de un juego de disparos y genere un ranking basado en el puntaje total de cada jugador. Se utilizará el siguiente sistema de puntuación:\n",
    "\n",
    "Accion: Kill  Asistencia Muerte  \n",
    "Puntos: 3     1          -1\n",
    "\n",
    "\n",
    "Imprima las tablas de resultados luego de la inserción de cada una de las rondas pudiendo ver el progreso en el equipo.\n",
    "Además cada ronda debe tener un MVP (Mejor Jugador del Partido/ronda) basado en su puntuación. La cantidad de veces que el jugador ha sido MVP también se debe contabilizar\n",
    "Se debe imprimir el total de kills, asistencias, muertes, cantidad de MVP y puntos totales. La  tabla tienen que estar en orden decreciente por los puntos totales.\n",
    " Salida esperada:\n",
    " Ranking ronda 1:\n",
    " ...\n",
    " Ranking ronda 2:\n",
    " ...\n",
    " Ranking final:\n",
    " Jugador Kills Asistencias  Muertes  MVPs   Puntos\n",
    " -------------------------------------------------------\n",
    " Shadow  6      6           2        2      22        \n",
    " Blaze   6      3           3        1      18\n",
    " Viper   5      6           3        1      18\n",
    " Reaper  4      5           1        0      16\n",
    " Frost   4      5           2        1      15\n",
    " -------------------------------------------------------"
   ]
  },
  {
   "cell_type": "code",
   "execution_count": 3,
   "metadata": {},
   "outputs": [
    {
     "name": "stdout",
     "output_type": "stream",
     "text": [
      "Ronda 1\n",
      "Nombre   Kills   Asistencias   Muertes   MVP's   Puntos totales\n",
      "\n",
      "-------------------------------------------------------------------\n",
      "Shadow         2           1         1       1              6\n",
      "Viper          1           2         1       0              4\n",
      "Reaper         1           1         0       0              4\n",
      "Blaze          1           0         0       0              3\n",
      "Frost          0           1         0       0              1\n",
      "-------------------------------------------------------------------\n",
      "Ronda 2\n",
      "Nombre   Kills   Asistencias   Muertes   MVP's   Puntos totales\n",
      "\n",
      "-------------------------------------------------------------------\n",
      "Shadow         2           3         1       1              8\n",
      "Blaze          3           0         1       0              8\n",
      "Viper          2           3         1       0              8\n",
      "Frost          2           2         1       1              7\n",
      "Reaper         1           2         0       0              5\n",
      "-------------------------------------------------------------------\n",
      "Ronda 3\n",
      "Nombre   Kills   Asistencias   Muertes   MVP's   Puntos totales\n",
      "\n",
      "-------------------------------------------------------------------\n",
      "Blaze          5           2         2       1             15\n",
      "Shadow         3           3         1       1             11\n",
      "Viper          3           4         2       0             11\n",
      "Reaper         2           3         0       0              9\n",
      "Frost          2           3         1       1              8\n",
      "-------------------------------------------------------------------\n",
      "Ronda 4\n",
      "Nombre   Kills   Asistencias   Muertes   MVP's   Puntos totales\n",
      "\n",
      "-------------------------------------------------------------------\n",
      "Shadow         5           4         1       2             18\n",
      "Blaze          6           2         3       1             17\n",
      "Viper          3           6         2       0             13\n",
      "Reaper         3           4         0       0             13\n",
      "Frost          3           4         2       1             11\n",
      "-------------------------------------------------------------------\n",
      "Ronda 5\n",
      "Nombre   Kills   Asistencias   Muertes   MVP's   Puntos totales\n",
      "\n",
      "-------------------------------------------------------------------\n",
      "Shadow         6           6         2       2             22\n",
      "Blaze          6           3         3       1             18\n",
      "Viper          5           6         3       1             18\n",
      "Reaper         4           5         1       0             16\n",
      "Frost          4           5         2       1             15\n",
      "-------------------------------------------------------------------\n"
     ]
    }
   ],
   "source": [
    "rounds = [\n",
    "     {\n",
    "         'Shadow': {'kills': 2, 'assists': 1, 'deaths': True},\n",
    "         'Blaze': {'kills': 1, 'assists': 0, 'deaths': False},\n",
    "         'Viper': {'kills': 1, 'assists': 2, 'deaths': True},\n",
    "         'Frost': {'kills': 0, 'assists': 1, 'deaths': False},\n",
    "         'Reaper': {'kills': 1, 'assists': 1, 'deaths': False}\n",
    "     },\n",
    "     {\n",
    "         'Shadow': {'kills': 0, 'assists': 2, 'deaths': False},\n",
    "         'Blaze': {'kills': 2, 'assists': 0, 'deaths': True},\n",
    "         'Viper': {'kills': 1, 'assists': 1, 'deaths': False},\n",
    "         'Frost': {'kills': 2, 'assists': 1, 'deaths': True},\n",
    "         'Reaper': {'kills': 0, 'assists': 1, 'deaths': False}\n",
    "     },\n",
    "     {\n",
    "         'Shadow': {'kills': 1, 'assists': 0, 'deaths': False},\n",
    "         'Blaze': {'kills': 2, 'assists': 2, 'deaths': True},\n",
    "         'Viper': {'kills': 1, 'assists': 1, 'deaths': True},\n",
    "         'Frost': {'kills': 0, 'assists': 1, 'deaths': False},\n",
    "         'Reaper': {'kills': 1, 'assists': 1, 'deaths': False}\n",
    "     },\n",
    "     {\n",
    "         'Shadow': {'kills': 2, 'assists': 1, 'deaths': False},\n",
    "         'Blaze': {'kills': 1, 'assists': 0, 'deaths': True},\n",
    "         'Viper': {'kills': 0, 'assists': 2, 'deaths': False},\n",
    "         'Frost': {'kills': 1, 'assists': 1, 'deaths': True},\n",
    "         'Reaper': {'kills': 1, 'assists': 1, 'deaths': False}\n",
    "     },\n",
    "     {\n",
    "         'Shadow': {'kills': 1, 'assists': 2, 'deaths': True},\n",
    "         'Blaze': {'kills': 0, 'assists': 1, 'deaths': False},\n",
    "         'Viper': {'kills': 2, 'assists': 0, 'deaths': True},\n",
    "         'Frost': {'kills': 1, 'assists': 1, 'deaths': False},\n",
    "         'Reaper': {'kills': 1, 'assists': 1, 'deaths': True}\n",
    "     }\n",
    "]\n",
    "total = {  \n",
    " 'Shadow':{'kills': 0, 'assists': 0,'deaths':0,'MVPS':0,'points':0},\n",
    " 'Blaze':{'kills': 0, 'assists': 0,'deaths':0,'MVPS':0,'points':0},\n",
    " 'Viper':{'kills': 0, 'assists': 0,'deaths':0,'MVPS':0,'points':0},\n",
    " 'Frost':{'kills': 0, 'assists': 0,'deaths':0,'MVPS':0,'points':0},\n",
    " 'Reaper':{'kills': 0, 'assists': 0,'deaths':0,'MVPS':0,'points':0}\n",
    "}\n",
    "actualround = 1\n",
    "for elem in rounds:\n",
    "     actualround = process_round(elem,total,actualround)\n"
   ]
  }
 ],
 "metadata": {
  "kernelspec": {
   "display_name": "Python 3",
   "language": "python",
   "name": "python3"
  },
  "language_info": {
   "codemirror_mode": {
    "name": "ipython",
    "version": 3
   },
   "file_extension": ".py",
   "mimetype": "text/x-python",
   "name": "python",
   "nbconvert_exporter": "python",
   "pygments_lexer": "ipython3",
   "version": "3.12.9"
  }
 },
 "nbformat": 4,
 "nbformat_minor": 2
}
