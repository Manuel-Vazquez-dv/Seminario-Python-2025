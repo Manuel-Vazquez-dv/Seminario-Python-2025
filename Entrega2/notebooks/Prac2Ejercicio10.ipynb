{
 "cells": [
  {
   "cell_type": "markdown",
   "metadata": {},
   "source": [
    "Imports"
   ]
  },
  {
   "cell_type": "code",
   "execution_count": 1,
   "metadata": {},
   "outputs": [],
   "source": [
    "import sys\n",
    "import os\n",
    "sys.path.append(os.path.abspath(\"../src\"))\n",
    "from functions import process_round"
   ]
  },
  {
   "cell_type": "markdown",
   "metadata": {},
   "source": [
    "Ejercicio 10"
   ]
  },
  {
   "cell_type": "code",
   "execution_count": null,
   "metadata": {},
   "outputs": [
    {
     "name": "stdout",
     "output_type": "stream",
     "text": [
      "dict_items([('Shadow', {'kills': 2, 'assists': 1, 'deaths': True}), ('Blaze', {'kills': 1, 'assists': 0, 'deaths': False}), ('Viper', {'kills': 1, 'assists': 2, 'deaths': True}), ('Frost', {'kills': 0, 'assists': 1, 'deaths': False}), ('Reaper', {'kills': 1, 'assists': 1, 'deaths': False})])\n"
     ]
    },
    {
     "ename": "NameError",
     "evalue": "name 'process_round' is not defined",
     "output_type": "error",
     "traceback": [
      "\u001b[31m---------------------------------------------------------------------------\u001b[39m",
      "\u001b[31mNameError\u001b[39m                                 Traceback (most recent call last)",
      "\u001b[36mCell\u001b[39m\u001b[36m \u001b[39m\u001b[32mIn[6]\u001b[39m\u001b[32m, line 47\u001b[39m\n\u001b[32m     44\u001b[39m actualround = \u001b[32m1\u001b[39m\n\u001b[32m     45\u001b[39m \u001b[38;5;28;01mfor\u001b[39;00m elem \u001b[38;5;129;01min\u001b[39;00m rounds:\n\u001b[32m     46\u001b[39m      \u001b[38;5;66;03m#Se procesa cada ronda, se le pasa el diccionario de la ronda y el total acumulado.\u001b[39;00m\n\u001b[32m---> \u001b[39m\u001b[32m47\u001b[39m      actualround = \u001b[43mprocess_round\u001b[49m(elem,total,actualround)\n",
      "\u001b[31mNameError\u001b[39m: name 'process_round' is not defined"
     ]
    }
   ],
   "source": [
    "rounds = [\n",
    "     {\n",
    "         'Shadow': {'kills': 2, 'assists': 1, 'deaths': True},\n",
    "         'Blaze': {'kills': 1, 'assists': 0, 'deaths': False},\n",
    "         'Viper': {'kills': 1, 'assists': 2, 'deaths': True},\n",
    "         'Frost': {'kills': 0, 'assists': 1, 'deaths': False},\n",
    "         'Reaper': {'kills': 1, 'assists': 1, 'deaths': False}\n",
    "     },\n",
    "     {\n",
    "         'Shadow': {'kills': 0, 'assists': 2, 'deaths': False},\n",
    "         'Blaze': {'kills': 2, 'assists': 0, 'deaths': True},\n",
    "         'Viper': {'kills': 1, 'assists': 1, 'deaths': False},\n",
    "         'Frost': {'kills': 2, 'assists': 1, 'deaths': True},\n",
    "         'Reaper': {'kills': 0, 'assists': 1, 'deaths': False}\n",
    "     },\n",
    "     {\n",
    "         'Shadow': {'kills': 1, 'assists': 0, 'deaths': False},\n",
    "         'Blaze': {'kills': 2, 'assists': 2, 'deaths': True},\n",
    "         'Viper': {'kills': 1, 'assists': 1, 'deaths': True},\n",
    "         'Frost': {'kills': 0, 'assists': 1, 'deaths': False},\n",
    "         'Reaper': {'kills': 1, 'assists': 1, 'deaths': False}\n",
    "     },\n",
    "     {\n",
    "         'Shadow': {'kills': 2, 'assists': 1, 'deaths': False},\n",
    "         'Blaze': {'kills': 1, 'assists': 0, 'deaths': True},\n",
    "         'Viper': {'kills': 0, 'assists': 2, 'deaths': False},\n",
    "         'Frost': {'kills': 1, 'assists': 1, 'deaths': True},\n",
    "         'Reaper': {'kills': 1, 'assists': 1, 'deaths': False}\n",
    "     },\n",
    "     {\n",
    "         'Shadow': {'kills': 1, 'assists': 2, 'deaths': True},\n",
    "         'Blaze': {'kills': 0, 'assists': 1, 'deaths': False},\n",
    "         'Viper': {'kills': 2, 'assists': 0, 'deaths': True},\n",
    "         'Frost': {'kills': 1, 'assists': 1, 'deaths': False},\n",
    "         'Reaper': {'kills': 1, 'assists': 1, 'deaths': True}\n",
    "     }\n",
    "]\n",
    "\n",
    "# Se toma todos los jugadores de la primera ronda para inicializar el diccionario total. Se asume que los jugadores no cambian entre rondas.\n",
    "total = {key:{'kills': 0, 'assists': 0,'deaths':0,'MVPS':0,'points':0} for key in rounds[0].keys()}\n",
    "\n",
    "actualround = 1\n",
    "for elem in rounds:\n",
    "     #Se procesa cada ronda, se le pasa el diccionario de la ronda y el total acumulado.\n",
    "     actualround = process_round(elem,total,actualround)"
   ]
  }
 ],
 "metadata": {
  "kernelspec": {
   "display_name": "Python 3",
   "language": "python",
   "name": "python3"
  },
  "language_info": {
   "codemirror_mode": {
    "name": "ipython",
    "version": 3
   },
   "file_extension": ".py",
   "mimetype": "text/x-python",
   "name": "python",
   "nbconvert_exporter": "python",
   "pygments_lexer": "ipython3",
   "version": "3.12.9"
  }
 },
 "nbformat": 4,
 "nbformat_minor": 2
}
